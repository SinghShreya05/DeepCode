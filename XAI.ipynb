{
 "cells": [
  {
   "cell_type": "code",
   "execution_count": 1,
   "id": "monetary-eligibility",
   "metadata": {
    "_cell_guid": "b1076dfc-b9ad-4769-8c92-a6c4dae69d19",
    "_uuid": "8f2839f25d086af736a60e9eeb907d3b93b6e0e5",
    "execution": {
     "iopub.execute_input": "2021-04-17T15:49:27.260571Z",
     "iopub.status.busy": "2021-04-17T15:49:27.258581Z",
     "iopub.status.idle": "2021-04-17T15:49:27.277327Z",
     "shell.execute_reply": "2021-04-17T15:49:27.276566Z"
    },
    "papermill": {
     "duration": 0.041361,
     "end_time": "2021-04-17T15:49:27.277490",
     "exception": false,
     "start_time": "2021-04-17T15:49:27.236129",
     "status": "completed"
    },
    "tags": []
   },
   "outputs": [
    {
     "name": "stdout",
     "output_type": "stream",
     "text": [
      "/kaggle/input/sapslab/Training_datad9b6ebc.csv\n"
     ]
    }
   ],
   "source": [
    "# This Python 3 environment comes with many helpful analytics libraries installed\n",
    "# It is defined by the kaggle/python Docker image: https://github.com/kaggle/docker-python\n",
    "# For example, here's several helpful packages to load\n",
    "\n",
    "import numpy as np # linear algebra\n",
    "import pandas as pd # data processing, CSV file I/O (e.g. pd.read_csv)\n",
    "\n",
    "# Input data files are available in the read-only \"../input/\" directory\n",
    "# For example, running this (by clicking run or pressing Shift+Enter) will list all files under the input directory\n",
    "\n",
    "import os\n",
    "for dirname, _, filenames in os.walk('/kaggle/input'):\n",
    "    for filename in filenames:\n",
    "        print(os.path.join(dirname, filename))\n",
    "\n",
    "# You can write up to 20GB to the current directory (/kaggle/working/) that gets preserved as output when you create a version using \"Save & Run All\" \n",
    "# You can also write temporary files to /kaggle/temp/, but they won't be saved outside of the current session"
   ]
  },
  {
   "cell_type": "code",
   "execution_count": 2,
   "id": "prime-christopher",
   "metadata": {
    "execution": {
     "iopub.execute_input": "2021-04-17T15:49:27.316361Z",
     "iopub.status.busy": "2021-04-17T15:49:27.315693Z",
     "iopub.status.idle": "2021-04-17T15:49:32.943174Z",
     "shell.execute_reply": "2021-04-17T15:49:32.942013Z"
    },
    "papermill": {
     "duration": 5.649408,
     "end_time": "2021-04-17T15:49:32.943460",
     "exception": false,
     "start_time": "2021-04-17T15:49:27.294052",
     "status": "completed"
    },
    "tags": []
   },
   "outputs": [
    {
     "data": {
      "text/html": [
       "<div>\n",
       "<style scoped>\n",
       "    .dataframe tbody tr th:only-of-type {\n",
       "        vertical-align: middle;\n",
       "    }\n",
       "\n",
       "    .dataframe tbody tr th {\n",
       "        vertical-align: top;\n",
       "    }\n",
       "\n",
       "    .dataframe thead th {\n",
       "        text-align: right;\n",
       "    }\n",
       "</style>\n",
       "<table border=\"1\" class=\"dataframe\">\n",
       "  <thead>\n",
       "    <tr style=\"text-align: right;\">\n",
       "      <th></th>\n",
       "      <th>Id</th>\n",
       "      <th>ProductId</th>\n",
       "      <th>UserId</th>\n",
       "      <th>ProfileName</th>\n",
       "      <th>HelpfulnessNumerator</th>\n",
       "      <th>HelpfulnessDenominator</th>\n",
       "      <th>Time</th>\n",
       "      <th>Summary</th>\n",
       "      <th>Text</th>\n",
       "      <th>Score</th>\n",
       "    </tr>\n",
       "  </thead>\n",
       "  <tbody>\n",
       "    <tr>\n",
       "      <th>0</th>\n",
       "      <td>23756</td>\n",
       "      <td>B0013NUGDE</td>\n",
       "      <td>A2OH0EA9PEW4FN</td>\n",
       "      <td>bookgoddess88</td>\n",
       "      <td>2</td>\n",
       "      <td>3</td>\n",
       "      <td>1279411200</td>\n",
       "      <td>Only 2 points for Weight Watchers</td>\n",
       "      <td>I order these chips on a regular basis.  I lik...</td>\n",
       "      <td>3</td>\n",
       "    </tr>\n",
       "    <tr>\n",
       "      <th>1</th>\n",
       "      <td>528127</td>\n",
       "      <td>B000JMDH40</td>\n",
       "      <td>A8GHHQVULZ9NF</td>\n",
       "      <td>Alessandra</td>\n",
       "      <td>1</td>\n",
       "      <td>1</td>\n",
       "      <td>1240012800</td>\n",
       "      <td>Delicious!!!</td>\n",
       "      <td>Baby love it!Taste sweet but there is no sugar...</td>\n",
       "      <td>5</td>\n",
       "    </tr>\n",
       "    <tr>\n",
       "      <th>2</th>\n",
       "      <td>491505</td>\n",
       "      <td>B0026LJRW8</td>\n",
       "      <td>A2S40W6PSX0CQI</td>\n",
       "      <td>Benjamin</td>\n",
       "      <td>1</td>\n",
       "      <td>1</td>\n",
       "      <td>1336348800</td>\n",
       "      <td>Baconlicious!</td>\n",
       "      <td>it's difficult to come up with 20 words for su...</td>\n",
       "      <td>5</td>\n",
       "    </tr>\n",
       "    <tr>\n",
       "      <th>3</th>\n",
       "      <td>98982</td>\n",
       "      <td>B001ED0H3C</td>\n",
       "      <td>A1XM4P40K1OPOM</td>\n",
       "      <td>James M. Martin \"Mike\"</td>\n",
       "      <td>0</td>\n",
       "      <td>0</td>\n",
       "      <td>1336694400</td>\n",
       "      <td>Will this probe work for the Oregon Scientific?</td>\n",
       "      <td>I beleive the probe I have for my Oregon Scien...</td>\n",
       "      <td>5</td>\n",
       "    </tr>\n",
       "  </tbody>\n",
       "</table>\n",
       "</div>"
      ],
      "text/plain": [
       "       Id   ProductId          UserId             ProfileName  \\\n",
       "0   23756  B0013NUGDE  A2OH0EA9PEW4FN           bookgoddess88   \n",
       "1  528127  B000JMDH40   A8GHHQVULZ9NF              Alessandra   \n",
       "2  491505  B0026LJRW8  A2S40W6PSX0CQI                Benjamin   \n",
       "3   98982  B001ED0H3C  A1XM4P40K1OPOM  James M. Martin \"Mike\"   \n",
       "\n",
       "   HelpfulnessNumerator  HelpfulnessDenominator        Time  \\\n",
       "0                     2                       3  1279411200   \n",
       "1                     1                       1  1240012800   \n",
       "2                     1                       1  1336348800   \n",
       "3                     0                       0  1336694400   \n",
       "\n",
       "                                           Summary  \\\n",
       "0                Only 2 points for Weight Watchers   \n",
       "1                                     Delicious!!!   \n",
       "2                                    Baconlicious!   \n",
       "3  Will this probe work for the Oregon Scientific?   \n",
       "\n",
       "                                                Text  Score  \n",
       "0  I order these chips on a regular basis.  I lik...      3  \n",
       "1  Baby love it!Taste sweet but there is no sugar...      5  \n",
       "2  it's difficult to come up with 20 words for su...      5  \n",
       "3  I beleive the probe I have for my Oregon Scien...      5  "
      ]
     },
     "execution_count": 2,
     "metadata": {},
     "output_type": "execute_result"
    }
   ],
   "source": [
    "data = pd.read_csv(\"/kaggle/input/sapslab/Training_datad9b6ebc.csv\")\n",
    "data.head(4)"
   ]
  },
  {
   "cell_type": "code",
   "execution_count": 3,
   "id": "industrial-constitution",
   "metadata": {
    "execution": {
     "iopub.execute_input": "2021-04-17T15:49:32.984292Z",
     "iopub.status.busy": "2021-04-17T15:49:32.983469Z",
     "iopub.status.idle": "2021-04-17T15:49:33.215033Z",
     "shell.execute_reply": "2021-04-17T15:49:33.213296Z"
    },
    "papermill": {
     "duration": 0.253581,
     "end_time": "2021-04-17T15:49:33.215202",
     "exception": false,
     "start_time": "2021-04-17T15:49:32.961621",
     "status": "completed"
    },
    "tags": []
   },
   "outputs": [
    {
     "data": {
      "text/plain": [
       "Id                         0\n",
       "ProductId                  0\n",
       "UserId                     0\n",
       "ProfileName               13\n",
       "HelpfulnessNumerator       0\n",
       "HelpfulnessDenominator     0\n",
       "Time                       0\n",
       "Summary                   22\n",
       "Text                       0\n",
       "Score                      0\n",
       "dtype: int64"
      ]
     },
     "execution_count": 3,
     "metadata": {},
     "output_type": "execute_result"
    }
   ],
   "source": [
    "data.isnull().sum()"
   ]
  },
  {
   "cell_type": "code",
   "execution_count": 4,
   "id": "russian-communist",
   "metadata": {
    "execution": {
     "iopub.execute_input": "2021-04-17T15:49:33.257691Z",
     "iopub.status.busy": "2021-04-17T15:49:33.255419Z",
     "iopub.status.idle": "2021-04-17T15:49:33.261047Z",
     "shell.execute_reply": "2021-04-17T15:49:33.260421Z"
    },
    "papermill": {
     "duration": 0.029271,
     "end_time": "2021-04-17T15:49:33.261191",
     "exception": false,
     "start_time": "2021-04-17T15:49:33.231920",
     "status": "completed"
    },
    "tags": []
   },
   "outputs": [
    {
     "data": {
      "text/plain": [
       "(397917, 10)"
      ]
     },
     "execution_count": 4,
     "metadata": {},
     "output_type": "execute_result"
    }
   ],
   "source": [
    "data.shape"
   ]
  },
  {
   "cell_type": "code",
   "execution_count": 5,
   "id": "radical-destiny",
   "metadata": {
    "execution": {
     "iopub.execute_input": "2021-04-17T15:49:33.302486Z",
     "iopub.status.busy": "2021-04-17T15:49:33.301559Z",
     "iopub.status.idle": "2021-04-17T15:49:33.601655Z",
     "shell.execute_reply": "2021-04-17T15:49:33.602566Z"
    },
    "papermill": {
     "duration": 0.323793,
     "end_time": "2021-04-17T15:49:33.602746",
     "exception": false,
     "start_time": "2021-04-17T15:49:33.278953",
     "status": "completed"
    },
    "tags": []
   },
   "outputs": [
    {
     "data": {
      "text/plain": [
       "(397882, 10)"
      ]
     },
     "execution_count": 5,
     "metadata": {},
     "output_type": "execute_result"
    }
   ],
   "source": [
    "data.dropna(inplace=True)\n",
    "data.shape"
   ]
  },
  {
   "cell_type": "code",
   "execution_count": 6,
   "id": "vietnamese-persian",
   "metadata": {
    "execution": {
     "iopub.execute_input": "2021-04-17T15:49:33.645980Z",
     "iopub.status.busy": "2021-04-17T15:49:33.643470Z",
     "iopub.status.idle": "2021-04-17T15:49:33.648622Z",
     "shell.execute_reply": "2021-04-17T15:49:33.648092Z"
    },
    "papermill": {
     "duration": 0.02849,
     "end_time": "2021-04-17T15:49:33.648769",
     "exception": false,
     "start_time": "2021-04-17T15:49:33.620279",
     "status": "completed"
    },
    "tags": []
   },
   "outputs": [
    {
     "data": {
      "text/plain": [
       "Index(['Id', 'ProductId', 'UserId', 'ProfileName', 'HelpfulnessNumerator',\n",
       "       'HelpfulnessDenominator', 'Time', 'Summary', 'Text', 'Score'],\n",
       "      dtype='object')"
      ]
     },
     "execution_count": 6,
     "metadata": {},
     "output_type": "execute_result"
    }
   ],
   "source": [
    "data.columns"
   ]
  },
  {
   "cell_type": "code",
   "execution_count": 7,
   "id": "steady-winning",
   "metadata": {
    "execution": {
     "iopub.execute_input": "2021-04-17T15:49:33.739707Z",
     "iopub.status.busy": "2021-04-17T15:49:33.712934Z",
     "iopub.status.idle": "2021-04-17T15:49:33.749037Z",
     "shell.execute_reply": "2021-04-17T15:49:33.749617Z"
    },
    "papermill": {
     "duration": 0.081163,
     "end_time": "2021-04-17T15:49:33.749812",
     "exception": false,
     "start_time": "2021-04-17T15:49:33.668649",
     "status": "completed"
    },
    "tags": []
   },
   "outputs": [
    {
     "data": {
      "text/html": [
       "<div>\n",
       "<style scoped>\n",
       "    .dataframe tbody tr th:only-of-type {\n",
       "        vertical-align: middle;\n",
       "    }\n",
       "\n",
       "    .dataframe tbody tr th {\n",
       "        vertical-align: top;\n",
       "    }\n",
       "\n",
       "    .dataframe thead th {\n",
       "        text-align: right;\n",
       "    }\n",
       "</style>\n",
       "<table border=\"1\" class=\"dataframe\">\n",
       "  <thead>\n",
       "    <tr style=\"text-align: right;\">\n",
       "      <th></th>\n",
       "      <th>HelpfulnessNumerator</th>\n",
       "      <th>HelpfulnessDenominator</th>\n",
       "      <th>Summary</th>\n",
       "      <th>Text</th>\n",
       "      <th>Score</th>\n",
       "    </tr>\n",
       "  </thead>\n",
       "  <tbody>\n",
       "    <tr>\n",
       "      <th>0</th>\n",
       "      <td>2</td>\n",
       "      <td>3</td>\n",
       "      <td>Only 2 points for Weight Watchers</td>\n",
       "      <td>I order these chips on a regular basis.  I lik...</td>\n",
       "      <td>3</td>\n",
       "    </tr>\n",
       "    <tr>\n",
       "      <th>1</th>\n",
       "      <td>1</td>\n",
       "      <td>1</td>\n",
       "      <td>Delicious!!!</td>\n",
       "      <td>Baby love it!Taste sweet but there is no sugar...</td>\n",
       "      <td>5</td>\n",
       "    </tr>\n",
       "  </tbody>\n",
       "</table>\n",
       "</div>"
      ],
      "text/plain": [
       "   HelpfulnessNumerator  HelpfulnessDenominator  \\\n",
       "0                     2                       3   \n",
       "1                     1                       1   \n",
       "\n",
       "                             Summary  \\\n",
       "0  Only 2 points for Weight Watchers   \n",
       "1                       Delicious!!!   \n",
       "\n",
       "                                                Text  Score  \n",
       "0  I order these chips on a regular basis.  I lik...      3  \n",
       "1  Baby love it!Taste sweet but there is no sugar...      5  "
      ]
     },
     "execution_count": 7,
     "metadata": {},
     "output_type": "execute_result"
    }
   ],
   "source": [
    "data.drop(['Id', 'ProductId', 'UserId', 'ProfileName','Time'], axis=1, inplace=True)\n",
    "data.head(2)"
   ]
  },
  {
   "cell_type": "code",
   "execution_count": 8,
   "id": "independent-office",
   "metadata": {
    "execution": {
     "iopub.execute_input": "2021-04-17T15:49:33.793090Z",
     "iopub.status.busy": "2021-04-17T15:49:33.792129Z",
     "iopub.status.idle": "2021-04-17T15:49:34.003673Z",
     "shell.execute_reply": "2021-04-17T15:49:34.004244Z"
    },
    "papermill": {
     "duration": 0.235989,
     "end_time": "2021-04-17T15:49:34.004426",
     "exception": false,
     "start_time": "2021-04-17T15:49:33.768437",
     "status": "completed"
    },
    "tags": []
   },
   "outputs": [
    {
     "data": {
      "text/plain": [
       "<AxesSubplot:title={'center':'Distribution of Score in Dataset'}>"
      ]
     },
     "execution_count": 8,
     "metadata": {},
     "output_type": "execute_result"
    },
    {
     "data": {
      "image/png": "[encoded data removed]",
      "text/plain": [
       "<Figure size 432x288 with 1 Axes>"
      ]
     },
     "metadata": {
      "needs_background": "light"
     },
     "output_type": "display_data"
    }
   ],
   "source": [
    "import matplotlib.pyplot as plt\n",
    "pd.value_counts(data['Score']).plot.bar(title=\"Distribution of Score in Dataset\")"
   ]
  },
  {
   "cell_type": "code",
   "execution_count": 9,
   "id": "apparent-decision",
   "metadata": {
    "execution": {
     "iopub.execute_input": "2021-04-17T15:49:34.049078Z",
     "iopub.status.busy": "2021-04-17T15:49:34.048083Z",
     "iopub.status.idle": "2021-04-17T15:49:35.436782Z",
     "shell.execute_reply": "2021-04-17T15:49:35.435616Z"
    },
    "papermill": {
     "duration": 1.412627,
     "end_time": "2021-04-17T15:49:35.436998",
     "exception": false,
     "start_time": "2021-04-17T15:49:34.024371",
     "status": "completed"
    },
    "tags": []
   },
   "outputs": [],
   "source": [
    "import imblearn\n",
    "from imblearn.over_sampling import SMOTE\n",
    "oversample = SMOTE()"
   ]
  },
  {
   "cell_type": "code",
   "execution_count": 10,
   "id": "reduced-samuel",
   "metadata": {
    "execution": {
     "iopub.execute_input": "2021-04-17T15:49:35.482299Z",
     "iopub.status.busy": "2021-04-17T15:49:35.481454Z",
     "iopub.status.idle": "2021-04-17T15:49:35.671254Z",
     "shell.execute_reply": "2021-04-17T15:49:35.670569Z"
    },
    "papermill": {
     "duration": 0.214237,
     "end_time": "2021-04-17T15:49:35.671402",
     "exception": false,
     "start_time": "2021-04-17T15:49:35.457165",
     "status": "completed"
    },
    "tags": []
   },
   "outputs": [],
   "source": [
    "from gensim.parsing.preprocessing import remove_stopwords\n",
    "from gensim.utils import simple_preprocess"
   ]
  },
  {
   "cell_type": "code",
   "execution_count": 11,
   "id": "preceding-architect",
   "metadata": {
    "execution": {
     "iopub.execute_input": "2021-04-17T15:49:35.740807Z",
     "iopub.status.busy": "2021-04-17T15:49:35.730618Z",
     "iopub.status.idle": "2021-04-17T15:51:23.822805Z",
     "shell.execute_reply": "2021-04-17T15:51:23.823800Z"
    },
    "papermill": {
     "duration": 108.132442,
     "end_time": "2021-04-17T15:51:23.824220",
     "exception": false,
     "start_time": "2021-04-17T15:49:35.691778",
     "status": "completed"
    },
    "tags": []
   },
   "outputs": [
    {
     "name": "stdout",
     "output_type": "stream",
     "text": [
      "   HelpfulnessNumerator  HelpfulnessDenominator  \\\n",
      "0                     2                       3   \n",
      "1                     1                       1   \n",
      "2                     1                       1   \n",
      "3                     0                       0   \n",
      "\n",
      "                                           Summary  \\\n",
      "0                Only 2 points for Weight Watchers   \n",
      "1                                     Delicious!!!   \n",
      "2                                    Baconlicious!   \n",
      "3  Will this probe work for the Oregon Scientific?   \n",
      "\n",
      "                                                Text  Score  \\\n",
      "0  I order these chips on a regular basis.  I lik...      3   \n",
      "1  Baby love it!Taste sweet but there is no sugar...      5   \n",
      "2  it's difficult to come up with 20 words for su...      5   \n",
      "3  I beleive the probe I have for my Oregon Scien...      5   \n",
      "\n",
      "                                  Summary_  \\\n",
      "0         [only, points, weight, watchers]   \n",
      "1                              [delicious]   \n",
      "2                           [baconlicious]   \n",
      "3  [will, probe, work, oregon, scientific]   \n",
      "\n",
      "                                               Text_  \n",
      "0  [order, chips, regular, basis, like, portioned...  \n",
      "1  [baby, love, it, taste, sweet, sugar, baby, lo...  \n",
      "2  [it, difficult, come, words, sunflower, seeds,...  \n",
      "3  [beleive, probe, oregon, scientific, burned, o...  \n"
     ]
    }
   ],
   "source": [
    "data['Summary_'] = [remove_stopwords(line) for line in data['Summary']] \n",
    "data['Text_'] = [remove_stopwords(line) for line in data['Text']] \n",
    "data['Summary_'] = [simple_preprocess(line, deacc=True) for line in data['Summary_']] \n",
    "data['Text_'] = [simple_preprocess(line, deacc=True) for line in data['Text_']] \n",
    "print(data.head(4))"
   ]
  },
  {
   "cell_type": "code",
   "execution_count": 12,
   "id": "consistent-waste",
   "metadata": {
    "execution": {
     "iopub.execute_input": "2021-04-17T15:51:23.872789Z",
     "iopub.status.busy": "2021-04-17T15:51:23.871745Z",
     "iopub.status.idle": "2021-04-17T15:51:23.875726Z",
     "shell.execute_reply": "2021-04-17T15:51:23.875182Z"
    },
    "papermill": {
     "duration": 0.030032,
     "end_time": "2021-04-17T15:51:23.875901",
     "exception": false,
     "start_time": "2021-04-17T15:51:23.845869",
     "status": "completed"
    },
    "tags": []
   },
   "outputs": [],
   "source": [
    "from gensim.parsing.porter import PorterStemmer\n",
    "porter_stemmer = PorterStemmer()"
   ]
  },
  {
   "cell_type": "code",
   "execution_count": 13,
   "id": "dominican-calvin",
   "metadata": {
    "execution": {
     "iopub.execute_input": "2021-04-17T15:51:23.937489Z",
     "iopub.status.busy": "2021-04-17T15:51:23.932623Z",
     "iopub.status.idle": "2021-04-17T15:54:25.287352Z",
     "shell.execute_reply": "2021-04-17T15:54:25.287933Z"
    },
    "papermill": {
     "duration": 181.390766,
     "end_time": "2021-04-17T15:54:25.288123",
     "exception": false,
     "start_time": "2021-04-17T15:51:23.897357",
     "status": "completed"
    },
    "tags": []
   },
   "outputs": [
    {
     "data": {
      "text/html": [
       "<div>\n",
       "<style scoped>\n",
       "    .dataframe tbody tr th:only-of-type {\n",
       "        vertical-align: middle;\n",
       "    }\n",
       "\n",
       "    .dataframe tbody tr th {\n",
       "        vertical-align: top;\n",
       "    }\n",
       "\n",
       "    .dataframe thead th {\n",
       "        text-align: right;\n",
       "    }\n",
       "</style>\n",
       "<table border=\"1\" class=\"dataframe\">\n",
       "  <thead>\n",
       "    <tr style=\"text-align: right;\">\n",
       "      <th></th>\n",
       "      <th>HelpfulnessNumerator</th>\n",
       "      <th>HelpfulnessDenominator</th>\n",
       "      <th>Summary</th>\n",
       "      <th>Text</th>\n",
       "      <th>Score</th>\n",
       "      <th>Summary_</th>\n",
       "      <th>Text_</th>\n",
       "    </tr>\n",
       "  </thead>\n",
       "  <tbody>\n",
       "    <tr>\n",
       "      <th>0</th>\n",
       "      <td>2</td>\n",
       "      <td>3</td>\n",
       "      <td>Only 2 points for Weight Watchers</td>\n",
       "      <td>I order these chips on a regular basis.  I lik...</td>\n",
       "      <td>3</td>\n",
       "      <td>[onli, point, weight, watcher]</td>\n",
       "      <td>[order, chip, regular, basi, like, portion, ba...</td>\n",
       "    </tr>\n",
       "    <tr>\n",
       "      <th>1</th>\n",
       "      <td>1</td>\n",
       "      <td>1</td>\n",
       "      <td>Delicious!!!</td>\n",
       "      <td>Baby love it!Taste sweet but there is no sugar...</td>\n",
       "      <td>5</td>\n",
       "      <td>[delici]</td>\n",
       "      <td>[babi, love, it, tast, sweet, sugar, babi, lov...</td>\n",
       "    </tr>\n",
       "    <tr>\n",
       "      <th>2</th>\n",
       "      <td>1</td>\n",
       "      <td>1</td>\n",
       "      <td>Baconlicious!</td>\n",
       "      <td>it's difficult to come up with 20 words for su...</td>\n",
       "      <td>5</td>\n",
       "      <td>[baconlici]</td>\n",
       "      <td>[it, difficult, come, word, sunflow, seed, awe...</td>\n",
       "    </tr>\n",
       "    <tr>\n",
       "      <th>3</th>\n",
       "      <td>0</td>\n",
       "      <td>0</td>\n",
       "      <td>Will this probe work for the Oregon Scientific?</td>\n",
       "      <td>I beleive the probe I have for my Oregon Scien...</td>\n",
       "      <td>5</td>\n",
       "      <td>[will, probe, work, oregon, scientif]</td>\n",
       "      <td>[beleiv, probe, oregon, scientif, burn, out, d...</td>\n",
       "    </tr>\n",
       "  </tbody>\n",
       "</table>\n",
       "</div>"
      ],
      "text/plain": [
       "   HelpfulnessNumerator  HelpfulnessDenominator  \\\n",
       "0                     2                       3   \n",
       "1                     1                       1   \n",
       "2                     1                       1   \n",
       "3                     0                       0   \n",
       "\n",
       "                                           Summary  \\\n",
       "0                Only 2 points for Weight Watchers   \n",
       "1                                     Delicious!!!   \n",
       "2                                    Baconlicious!   \n",
       "3  Will this probe work for the Oregon Scientific?   \n",
       "\n",
       "                                                Text  Score  \\\n",
       "0  I order these chips on a regular basis.  I lik...      3   \n",
       "1  Baby love it!Taste sweet but there is no sugar...      5   \n",
       "2  it's difficult to come up with 20 words for su...      5   \n",
       "3  I beleive the probe I have for my Oregon Scien...      5   \n",
       "\n",
       "                                Summary_  \\\n",
       "0         [onli, point, weight, watcher]   \n",
       "1                               [delici]   \n",
       "2                            [baconlici]   \n",
       "3  [will, probe, work, oregon, scientif]   \n",
       "\n",
       "                                               Text_  \n",
       "0  [order, chip, regular, basi, like, portion, ba...  \n",
       "1  [babi, love, it, tast, sweet, sugar, babi, lov...  \n",
       "2  [it, difficult, come, word, sunflow, seed, awe...  \n",
       "3  [beleiv, probe, oregon, scientif, burn, out, d...  "
      ]
     },
     "execution_count": 13,
     "metadata": {},
     "output_type": "execute_result"
    }
   ],
   "source": [
    "data['Summary_'] = [[porter_stemmer.stem(word) for word in tokens] for tokens in data['Summary_'] ]\n",
    "data['Text_'] = [[porter_stemmer.stem(word) for word in tokens] for tokens in data['Text_'] ]\n",
    "data.head(4)"
   ]
  },
  {
   "cell_type": "code",
   "execution_count": 14,
   "id": "demographic-crack",
   "metadata": {
    "execution": {
     "iopub.execute_input": "2021-04-17T15:54:25.338583Z",
     "iopub.status.busy": "2021-04-17T15:54:25.337539Z",
     "iopub.status.idle": "2021-04-17T15:54:25.341108Z",
     "shell.execute_reply": "2021-04-17T15:54:25.341626Z"
    },
    "papermill": {
     "duration": 0.031453,
     "end_time": "2021-04-17T15:54:25.341793",
     "exception": false,
     "start_time": "2021-04-17T15:54:25.310340",
     "status": "completed"
    },
    "tags": []
   },
   "outputs": [],
   "source": [
    "from gensim import corpora"
   ]
  },
  {
   "cell_type": "code",
   "execution_count": 15,
   "id": "excellent-christopher",
   "metadata": {
    "execution": {
     "iopub.execute_input": "2021-04-17T15:54:25.429585Z",
     "iopub.status.busy": "2021-04-17T15:54:25.424947Z",
     "iopub.status.idle": "2021-04-17T15:55:10.815917Z",
     "shell.execute_reply": "2021-04-17T15:55:10.816746Z"
    },
    "papermill": {
     "duration": 45.451901,
     "end_time": "2021-04-17T15:55:10.817032",
     "exception": false,
     "start_time": "2021-04-17T15:54:25.365131",
     "status": "completed"
    },
    "tags": []
   },
   "outputs": [
    {
     "name": "stdout",
     "output_type": "stream",
     "text": [
      "68250\n",
      "21359\n"
     ]
    }
   ],
   "source": [
    "mydict_summary = corpora.Dictionary(data['Summary_'])\n",
    "mydict_text = corpora.Dictionary(data['Text_'])\n",
    "print(len(mydict_text.token2id))\n",
    "print(len(mydict_summary.token2id))"
   ]
  },
  {
   "cell_type": "code",
   "execution_count": 16,
   "id": "fifty-oriental",
   "metadata": {
    "execution": {
     "iopub.execute_input": "2021-04-17T15:55:10.891517Z",
     "iopub.status.busy": "2021-04-17T15:55:10.886647Z",
     "iopub.status.idle": "2021-04-17T15:55:42.433803Z",
     "shell.execute_reply": "2021-04-17T15:55:42.433112Z"
    },
    "papermill": {
     "duration": 31.593801,
     "end_time": "2021-04-17T15:55:42.434020",
     "exception": false,
     "start_time": "2021-04-17T15:55:10.840219",
     "status": "completed"
    },
    "tags": []
   },
   "outputs": [],
   "source": [
    "data['summary_'] = [mydict_summary.doc2bow(x) for x in data['Summary_']]\n",
    "data['text_'] = [mydict_text.doc2bow(x) for x in data['Text_']]"
   ]
  },
  {
   "cell_type": "code",
   "execution_count": 17,
   "id": "turned-evans",
   "metadata": {
    "execution": {
     "iopub.execute_input": "2021-04-17T15:55:42.538157Z",
     "iopub.status.busy": "2021-04-17T15:55:42.529595Z",
     "iopub.status.idle": "2021-04-17T15:55:42.542643Z",
     "shell.execute_reply": "2021-04-17T15:55:42.543211Z"
    },
    "papermill": {
     "duration": 0.085718,
     "end_time": "2021-04-17T15:55:42.543390",
     "exception": false,
     "start_time": "2021-04-17T15:55:42.457672",
     "status": "completed"
    },
    "tags": []
   },
   "outputs": [
    {
     "data": {
      "text/html": [
       "<div>\n",
       "<style scoped>\n",
       "    .dataframe tbody tr th:only-of-type {\n",
       "        vertical-align: middle;\n",
       "    }\n",
       "\n",
       "    .dataframe tbody tr th {\n",
       "        vertical-align: top;\n",
       "    }\n",
       "\n",
       "    .dataframe thead th {\n",
       "        text-align: right;\n",
       "    }\n",
       "</style>\n",
       "<table border=\"1\" class=\"dataframe\">\n",
       "  <thead>\n",
       "    <tr style=\"text-align: right;\">\n",
       "      <th></th>\n",
       "      <th>HelpfulnessNumerator</th>\n",
       "      <th>HelpfulnessDenominator</th>\n",
       "      <th>Summary</th>\n",
       "      <th>Text</th>\n",
       "      <th>Score</th>\n",
       "      <th>Summary_</th>\n",
       "      <th>Text_</th>\n",
       "      <th>summary_</th>\n",
       "      <th>text_</th>\n",
       "    </tr>\n",
       "  </thead>\n",
       "  <tbody>\n",
       "    <tr>\n",
       "      <th>0</th>\n",
       "      <td>2</td>\n",
       "      <td>3</td>\n",
       "      <td>Only 2 points for Weight Watchers</td>\n",
       "      <td>I order these chips on a regular basis.  I lik...</td>\n",
       "      <td>3</td>\n",
       "      <td>[onli, point, weight, watcher]</td>\n",
       "      <td>[order, chip, regular, basi, like, portion, ba...</td>\n",
       "      <td>[(0, 1), (1, 1), (2, 1), (3, 1)]</td>\n",
       "      <td>[(0, 1), (1, 1), (2, 1), (3, 1), (4, 1), (5, 2...</td>\n",
       "    </tr>\n",
       "    <tr>\n",
       "      <th>1</th>\n",
       "      <td>1</td>\n",
       "      <td>1</td>\n",
       "      <td>Delicious!!!</td>\n",
       "      <td>Baby love it!Taste sweet but there is no sugar...</td>\n",
       "      <td>5</td>\n",
       "      <td>[delici]</td>\n",
       "      <td>[babi, love, it, tast, sweet, sugar, babi, lov...</td>\n",
       "      <td>[(4, 1)]</td>\n",
       "      <td>[(17, 1), (33, 4), (34, 1), (35, 1), (36, 1), ...</td>\n",
       "    </tr>\n",
       "    <tr>\n",
       "      <th>2</th>\n",
       "      <td>1</td>\n",
       "      <td>1</td>\n",
       "      <td>Baconlicious!</td>\n",
       "      <td>it's difficult to come up with 20 words for su...</td>\n",
       "      <td>5</td>\n",
       "      <td>[baconlici]</td>\n",
       "      <td>[it, difficult, come, word, sunflow, seed, awe...</td>\n",
       "      <td>[(5, 1)]</td>\n",
       "      <td>[(6, 1), (21, 1), (42, 1), (55, 1), (56, 1), (...</td>\n",
       "    </tr>\n",
       "    <tr>\n",
       "      <th>3</th>\n",
       "      <td>0</td>\n",
       "      <td>0</td>\n",
       "      <td>Will this probe work for the Oregon Scientific?</td>\n",
       "      <td>I beleive the probe I have for my Oregon Scien...</td>\n",
       "      <td>5</td>\n",
       "      <td>[will, probe, work, oregon, scientif]</td>\n",
       "      <td>[beleiv, probe, oregon, scientif, burn, out, d...</td>\n",
       "      <td>[(6, 1), (7, 1), (8, 1), (9, 1), (10, 1)]</td>\n",
       "      <td>[(42, 1), (66, 1), (67, 1), (68, 1), (69, 1), ...</td>\n",
       "    </tr>\n",
       "  </tbody>\n",
       "</table>\n",
       "</div>"
      ],
      "text/plain": [
       "   HelpfulnessNumerator  HelpfulnessDenominator  \\\n",
       "0                     2                       3   \n",
       "1                     1                       1   \n",
       "2                     1                       1   \n",
       "3                     0                       0   \n",
       "\n",
       "                                           Summary  \\\n",
       "0                Only 2 points for Weight Watchers   \n",
       "1                                     Delicious!!!   \n",
       "2                                    Baconlicious!   \n",
       "3  Will this probe work for the Oregon Scientific?   \n",
       "\n",
       "                                                Text  Score  \\\n",
       "0  I order these chips on a regular basis.  I lik...      3   \n",
       "1  Baby love it!Taste sweet but there is no sugar...      5   \n",
       "2  it's difficult to come up with 20 words for su...      5   \n",
       "3  I beleive the probe I have for my Oregon Scien...      5   \n",
       "\n",
       "                                Summary_  \\\n",
       "0         [onli, point, weight, watcher]   \n",
       "1                               [delici]   \n",
       "2                            [baconlici]   \n",
       "3  [will, probe, work, oregon, scientif]   \n",
       "\n",
       "                                               Text_  \\\n",
       "0  [order, chip, regular, basi, like, portion, ba...   \n",
       "1  [babi, love, it, tast, sweet, sugar, babi, lov...   \n",
       "2  [it, difficult, come, word, sunflow, seed, awe...   \n",
       "3  [beleiv, probe, oregon, scientif, burn, out, d...   \n",
       "\n",
       "                                    summary_  \\\n",
       "0           [(0, 1), (1, 1), (2, 1), (3, 1)]   \n",
       "1                                   [(4, 1)]   \n",
       "2                                   [(5, 1)]   \n",
       "3  [(6, 1), (7, 1), (8, 1), (9, 1), (10, 1)]   \n",
       "\n",
       "                                               text_  \n",
       "0  [(0, 1), (1, 1), (2, 1), (3, 1), (4, 1), (5, 2...  \n",
       "1  [(17, 1), (33, 4), (34, 1), (35, 1), (36, 1), ...  \n",
       "2  [(6, 1), (21, 1), (42, 1), (55, 1), (56, 1), (...  \n",
       "3  [(42, 1), (66, 1), (67, 1), (68, 1), (69, 1), ...  "
      ]
     },
     "execution_count": 17,
     "metadata": {},
     "output_type": "execute_result"
    }
   ],
   "source": [
    "data.head(4)"
   ]
  },
  {
   "cell_type": "code",
   "execution_count": 18,
   "id": "brazilian-fifteen",
   "metadata": {
    "execution": {
     "iopub.execute_input": "2021-04-17T15:55:42.596574Z",
     "iopub.status.busy": "2021-04-17T15:55:42.595480Z",
     "iopub.status.idle": "2021-04-17T15:55:42.768521Z",
     "shell.execute_reply": "2021-04-17T15:55:42.767938Z"
    },
    "papermill": {
     "duration": 0.202188,
     "end_time": "2021-04-17T15:55:42.768678",
     "exception": false,
     "start_time": "2021-04-17T15:55:42.566490",
     "status": "completed"
    },
    "tags": []
   },
   "outputs": [],
   "source": [
    "X = data[[\"summary_\",\"text_\"]]\n",
    "yscore = data[\"Score\"]"
   ]
  },
  {
   "cell_type": "code",
   "execution_count": 19,
   "id": "joint-overall",
   "metadata": {
    "execution": {
     "iopub.execute_input": "2021-04-17T15:55:42.823597Z",
     "iopub.status.busy": "2021-04-17T15:55:42.822503Z",
     "iopub.status.idle": "2021-04-17T15:55:42.922410Z",
     "shell.execute_reply": "2021-04-17T15:55:42.923060Z"
    },
    "papermill": {
     "duration": 0.131038,
     "end_time": "2021-04-17T15:55:42.923252",
     "exception": false,
     "start_time": "2021-04-17T15:55:42.792214",
     "status": "completed"
    },
    "tags": []
   },
   "outputs": [
    {
     "name": "stdout",
     "output_type": "stream",
     "text": [
      "(338199, 2)\n",
      "(59683, 2)\n",
      "(338199,)\n",
      "(59683,)\n"
     ]
    }
   ],
   "source": [
    "from sklearn.model_selection import train_test_split\n",
    "X_train, X_test, Y_train, Y_test = train_test_split(X,yscore,test_size=0.15)\n",
    "print(X_train.shape)\n",
    "print(X_test.shape)\n",
    "print(Y_train.shape)\n",
    "print(Y_test.shape)"
   ]
  }
 ],
 "metadata": {
  "kernelspec": {
   "display_name": "Python 3",
   "language": "python",
   "name": "python3"
  },
  "language_info": {
   "codemirror_mode": {
    "name": "ipython",
    "version": 3
   },
   "file_extension": ".py",
   "mimetype": "text/x-python",
   "name": "python",
   "nbconvert_exporter": "python",
   "pygments_lexer": "ipython3",
   "version": "3.7.9"
  },
  "papermill": {
   "default_parameters": {},
   "duration": 386.168077,
   "end_time": "2021-04-17T15:55:47.103101",
   "environment_variables": {},
   "exception": null,
   "input_path": "__notebook__.ipynb",
   "output_path": "__notebook__.ipynb",
   "parameters": {},
   "start_time": "2021-04-17T15:49:20.935024",
   "version": "2.3.2"
  }
 },
 "nbformat": 4,
 "nbformat_minor": 5
}
