{
  "nbformat": 4,
  "nbformat_minor": 0,
  "metadata": {
    "colab": {
      "name": "Neural Network from Scratch.ipynb",
      "provenance": []
    },
    "kernelspec": {
      "name": "python3",
      "display_name": "Python 3"
    }
  },
  "cells": [
    {
      "cell_type": "code",
      "metadata": {
        "id": "JNdEl941-EmH"
      },
      "source": [
        "import numpy as np\r\n",
        "import pandas as pd\r\n",
        "import matplotlib.pyplot as plt\r\n",
        "import h5py\r\n",
        "import scipy"
      ],
      "execution_count": 2,
      "outputs": []
    },
    {
      "cell_type": "code",
      "metadata": {
        "colab": {
          "base_uri": "https://localhost:8080/",
          "height": 204
        },
        "id": "uqqYamtGATMi",
        "outputId": "d897eb13-1368-494e-9c1f-2c70ca8a22d5"
      },
      "source": [
        "data = pd.read_csv(\"/content/drive/MyDrive/datasets/sin_data.csv\")\r\n",
        "data.head(5)"
      ],
      "execution_count": 3,
      "outputs": [
        {
          "output_type": "execute_result",
          "data": {
            "text/html": [
              "<div>\n",
              "<style scoped>\n",
              "    .dataframe tbody tr th:only-of-type {\n",
              "        vertical-align: middle;\n",
              "    }\n",
              "\n",
              "    .dataframe tbody tr th {\n",
              "        vertical-align: top;\n",
              "    }\n",
              "\n",
              "    .dataframe thead th {\n",
              "        text-align: right;\n",
              "    }\n",
              "</style>\n",
              "<table border=\"1\" class=\"dataframe\">\n",
              "  <thead>\n",
              "    <tr style=\"text-align: right;\">\n",
              "      <th></th>\n",
              "      <th>x</th>\n",
              "      <th>sin_x</th>\n",
              "      <th>Unnamed: 2</th>\n",
              "    </tr>\n",
              "  </thead>\n",
              "  <tbody>\n",
              "    <tr>\n",
              "      <th>0</th>\n",
              "      <td>-6.283185</td>\n",
              "      <td>2.449294e-16</td>\n",
              "      <td>NaN</td>\n",
              "    </tr>\n",
              "    <tr>\n",
              "      <th>1</th>\n",
              "      <td>-6.270568</td>\n",
              "      <td>1.261650e-02</td>\n",
              "      <td>NaN</td>\n",
              "    </tr>\n",
              "    <tr>\n",
              "      <th>2</th>\n",
              "      <td>-6.257952</td>\n",
              "      <td>2.523100e-02</td>\n",
              "      <td>NaN</td>\n",
              "    </tr>\n",
              "    <tr>\n",
              "      <th>3</th>\n",
              "      <td>-6.245335</td>\n",
              "      <td>3.784148e-02</td>\n",
              "      <td>NaN</td>\n",
              "    </tr>\n",
              "    <tr>\n",
              "      <th>4</th>\n",
              "      <td>-6.232718</td>\n",
              "      <td>5.044593e-02</td>\n",
              "      <td>NaN</td>\n",
              "    </tr>\n",
              "  </tbody>\n",
              "</table>\n",
              "</div>"
            ],
            "text/plain": [
              "          x         sin_x  Unnamed: 2\n",
              "0 -6.283185  2.449294e-16         NaN\n",
              "1 -6.270568  1.261650e-02         NaN\n",
              "2 -6.257952  2.523100e-02         NaN\n",
              "3 -6.245335  3.784148e-02         NaN\n",
              "4 -6.232718  5.044593e-02         NaN"
            ]
          },
          "metadata": {
            "tags": []
          },
          "execution_count": 3
        }
      ]
    },
    {
      "cell_type": "code",
      "metadata": {
        "colab": {
          "base_uri": "https://localhost:8080/"
        },
        "id": "o89joJtEATRY",
        "outputId": "2d2e73b7-2dce-462c-bbb4-215145d52c2d"
      },
      "source": [
        "data.isnull().sum()"
      ],
      "execution_count": 4,
      "outputs": [
        {
          "output_type": "execute_result",
          "data": {
            "text/plain": [
              "x                0\n",
              "sin_x            0\n",
              "Unnamed: 2    1000\n",
              "dtype: int64"
            ]
          },
          "metadata": {
            "tags": []
          },
          "execution_count": 4
        }
      ]
    },
    {
      "cell_type": "code",
      "metadata": {
        "colab": {
          "base_uri": "https://localhost:8080/"
        },
        "id": "ksLSunTmATVK",
        "outputId": "8b038a5b-8677-4440-dec8-b949c5bfb001"
      },
      "source": [
        "data.drop([\"Unnamed: 2\"], axis=1, inplace=True)\r\n",
        "data.columns"
      ],
      "execution_count": 5,
      "outputs": [
        {
          "output_type": "execute_result",
          "data": {
            "text/plain": [
              "Index(['x', 'sin_x'], dtype='object')"
            ]
          },
          "metadata": {
            "tags": []
          },
          "execution_count": 5
        }
      ]
    },
    {
      "cell_type": "code",
      "metadata": {
        "id": "ewFWS_9rATYh"
      },
      "source": [
        "import sklearn\r\n",
        "from sklearn.model_selection import train_test_split"
      ],
      "execution_count": 6,
      "outputs": []
    },
    {
      "cell_type": "code",
      "metadata": {
        "id": "0MLAuU_JJKEK"
      },
      "source": [
        "X = data[\"x\"]\r\n",
        "y = data[\"sin_x\"]"
      ],
      "execution_count": 70,
      "outputs": []
    },
    {
      "cell_type": "code",
      "metadata": {
        "id": "Zo8ltoAzATdc"
      },
      "source": [
        "X_train, X_test, y_train, y_test = train_test_split(X, y, test_size=0.2, random_state=1)\r\n",
        "X_train, X_val, y_train, y_val = train_test_split(X_train, y_train, test_size=0.25, random_state=1) # 0.25 x 0.8 = 0.2"
      ],
      "execution_count": 71,
      "outputs": []
    },
    {
      "cell_type": "code",
      "metadata": {
        "colab": {
          "base_uri": "https://localhost:8080/"
        },
        "id": "bEBOxsqxAThR",
        "outputId": "358227c4-8914-4859-a028-de8a475248bc"
      },
      "source": [
        "print(X_train.shape)\r\n",
        "print(X_test.shape)\r\n",
        "print(X_val.shape)"
      ],
      "execution_count": 30,
      "outputs": [
        {
          "output_type": "stream",
          "text": [
            "(600,)\n",
            "(200,)\n",
            "(200,)\n"
          ],
          "name": "stdout"
        }
      ]
    },
    {
      "cell_type": "code",
      "metadata": {
        "colab": {
          "base_uri": "https://localhost:8080/"
        },
        "id": "OHxFn94tATkL",
        "outputId": "e2b904d9-5b7c-4331-da79-ef2123bc7851"
      },
      "source": [
        "def tanh_func(x):\r\n",
        "    z = (2/(1 + np.exp(-2*x))) -1\r\n",
        "    return z\r\n",
        "\r\n",
        "def sigmoid(z):\r\n",
        "    s = 1/(1+np.exp(-z))  \r\n",
        "    return s\r\n",
        "\r\n",
        "print (\"tanh_func([0.5, -1]) = \" + str(tanh_func(np.array([0,2]))))\r\n",
        "print (\"sigmoid([0, 2]) = \" + str(sigmoid(np.array([0,2]))))"
      ],
      "execution_count": 10,
      "outputs": [
        {
          "output_type": "stream",
          "text": [
            "tanh_func([0.5, -1]) = [0.         0.96402758]\n",
            "sigmoid([0, 2]) = [0.5        0.88079708]\n"
          ],
          "name": "stdout"
        }
      ]
    },
    {
      "cell_type": "code",
      "metadata": {
        "id": "ZlLw2D-d6Vbn"
      },
      "source": [
        "def initialize_param(dim):\r\n",
        "    w = np.random.randn(dim, 1)*.01\r\n",
        "    b = 0\r\n",
        "    assert(w.shape == (dim, 1))\r\n",
        "    assert(isinstance(b, float) or isinstance(b, int))\r\n",
        "    return w, b"
      ],
      "execution_count": 59,
      "outputs": []
    },
    {
      "cell_type": "code",
      "metadata": {
        "colab": {
          "base_uri": "https://localhost:8080/"
        },
        "id": "Pg6NqDdeZPXY",
        "outputId": "3456623a-26e7-4742-a1b7-7ced8d1ca65c"
      },
      "source": [
        "dim = 2\r\n",
        "w, b = initialize_param(dim)\r\n",
        "print (\"w = \" + str(w))\r\n",
        "print (\"b = \" + str(b))"
      ],
      "execution_count": 85,
      "outputs": [
        {
          "output_type": "stream",
          "text": [
            "w = [[-0.0058196 ]\n",
            " [ 0.00284908]]\n",
            "b = 0\n"
          ],
          "name": "stdout"
        }
      ]
    },
    {
      "cell_type": "code",
      "metadata": {
        "id": "cKgBysGP6V2x"
      },
      "source": [
        "def propagate(w, b, P, Q):\r\n",
        "\r\n",
        "    m = P.shape[1]\r\n",
        "    \r\n",
        "    # FORWARD PROPAGATION (FROM P TO COST)\r\n",
        "    A = sigmoid(np.dot(w.T, P) + b)                                    # compute activation\r\n",
        "    cost = -1/m*(np.sum(Q*np.log(A) + (1-Q)*np.log(1-A)))                                 # compute cost\r\n",
        "    \r\n",
        "    # BACKWARD PROPAGATION (TO FIND GRAD)\r\n",
        "    dw = 1/m*(np.dot(P, ((A-Q).T)))\r\n",
        "    db = 1/m*(np.sum(A-Q))\r\n",
        "\r\n",
        "    assert(dw.shape == w.shape)\r\n",
        "    assert(db.dtype == float)\r\n",
        "    cost = np.squeeze(cost)\r\n",
        "    assert(cost.shape == ())\r\n",
        "    \r\n",
        "    grads = {\"dw\": dw,\r\n",
        "             \"db\": db}\r\n",
        "    \r\n",
        "    return grads, cost"
      ],
      "execution_count": 89,
      "outputs": []
    },
    {
      "cell_type": "code",
      "metadata": {
        "colab": {
          "base_uri": "https://localhost:8080/"
        },
        "id": "hlQhsLdcWIIv",
        "outputId": "cf79a2c6-f9c3-4b68-f40d-bc306b7b3ba4"
      },
      "source": [
        "w, b, P, Q = np.array([[1.],[2.]]), 2., np.array([[1.,2.,-1.],[3.,4.,-3.2]]), np.array([[1,0,1]])\r\n",
        "grads, cost = propagate(w, b, P, Q)\r\n",
        "print (\"dw = \" + str(grads[\"dw\"]))\r\n",
        "print (\"db = \" + str(grads[\"db\"]))\r\n",
        "print (\"cost = \" + str(cost))\r\n",
        "\r\n",
        "\r\n",
        "# w = 2,1 wT = 1 , 2\r\n",
        "# b = 1,0\r\n",
        "# P = 2,3 = m\r\n",
        "# Q = 1,3 // shape likh rahahumko lag rha h ye (600,) wala error hota tha na, jo (600,1) nhi hoke.. smjhe?\r\n",
        "# isme tpoh ans aa raha.\r\n"
      ],
      "execution_count": 90,
      "outputs": [
        {
          "output_type": "stream",
          "text": [
            "dw = [[0.99845601]\n",
            " [2.39507239]]\n",
            "db = 0.001455578136784208\n",
            "cost = 5.801545319394553\n"
          ],
          "name": "stdout"
        }
      ]
    },
    {
      "cell_type": "code",
      "metadata": {
        "id": "6clCSqan6Vzo"
      },
      "source": [
        "def optimize(w, b, X, Y, num_iterations, learning_rate, print_cost = False):\r\n",
        "    costs = []\r\n",
        "    \r\n",
        "    for i in range(num_iterations):\r\n",
        "        grads, cost = propagate(w, b, X, Y)\r\n",
        "\r\n",
        "        dw = grads[\"dw\"]\r\n",
        "        db = grads[\"db\"]\r\n",
        "        w = w - learning_rate*dw\r\n",
        "        b = b - learning_rate*db\r\n",
        "\r\n",
        "        if i % 100 == 0:\r\n",
        "            costs.append(cost)\r\n",
        "\r\n",
        "        if print_cost and i % 100 == 0:\r\n",
        "            print (\"Cost after iteration %i: %f\" %(i, cost))\r\n",
        "    \r\n",
        "    params = {\"w\": w,\r\n",
        "              \"b\": b}\r\n",
        "    \r\n",
        "    grads = {\"dw\": dw,\r\n",
        "             \"db\": db}\r\n",
        "    \r\n",
        "    return params, grads, costs\r\n",
        "\r\n",
        "params, grads, costs = optimize(w, b, train_x, train_y.shape, num_iterations= 100, learning_rate = 0.009, print_cost = False)\r\n",
        "\r\n",
        "print (\"w = \" + str(params[\"w\"]))\r\n",
        "print (\"b = \" + str(params[\"b\"]))\r\n",
        "print (\"dw = \" + str(grads[\"dw\"]))\r\n",
        "print (\"db = \" + str(grads[\"db\"]))"
      ],
      "execution_count": null,
      "outputs": []
    },
    {
      "cell_type": "code",
      "metadata": {
        "colab": {
          "base_uri": "https://localhost:8080/"
        },
        "id": "ZvCMBF6acecB",
        "outputId": "53b8b929-088d-4e22-e435-9645c96a738b"
      },
      "source": [
        "train_x = np.expand_dims(X_train, axis=0)\r\n",
        "train_x.shape"
      ],
      "execution_count": 86,
      "outputs": [
        {
          "output_type": "execute_result",
          "data": {
            "text/plain": [
              "(1, 600)"
            ]
          },
          "metadata": {
            "tags": []
          },
          "execution_count": 86
        }
      ]
    },
    {
      "cell_type": "code",
      "metadata": {
        "colab": {
          "base_uri": "https://localhost:8080/"
        },
        "id": "-B8M1R8feMcI",
        "outputId": "d41a0e7d-6068-466b-a2eb-563ff507c840"
      },
      "source": [
        "train_y = np.expand_dims(y_train, axis=0)\r\n",
        "train_y.shape"
      ],
      "execution_count": 87,
      "outputs": [
        {
          "output_type": "execute_result",
          "data": {
            "text/plain": [
              "(1, 600)"
            ]
          },
          "metadata": {
            "tags": []
          },
          "execution_count": 87
        }
      ]
    }
  ]
}